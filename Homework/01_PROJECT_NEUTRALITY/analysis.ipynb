{
  "cells": [
    {
      "cell_type": "code",
      "source": [
        "!git clone https://github.com/epfl-ada/2025/\n"
      ],
      "metadata": {
        "colab": {
          "base_uri": "https://localhost:8080/"
        },
        "id": "U73RqMnZl1ki",
        "outputId": "4ea691d2-6b30-4359-f49f-f015ad1c7246"
      },
      "id": "U73RqMnZl1ki",
      "execution_count": 80,
      "outputs": [
        {
          "output_type": "stream",
          "name": "stdout",
          "text": [
            "Cloning into '2025'...\n",
            "remote: Enumerating objects: 140, done.\u001b[K\n",
            "remote: Counting objects: 100% (42/42), done.\u001b[K\n",
            "remote: Compressing objects: 100% (26/26), done.\u001b[K\n",
            "remote: Total 140 (delta 26), reused 16 (delta 16), pack-reused 98 (from 1)\u001b[K\n",
            "Receiving objects: 100% (140/140), 35.96 MiB | 15.83 MiB/s, done.\n",
            "Resolving deltas: 100% (39/39), done.\n",
            "Updating files: 100% (55/55), done.\n"
          ]
        }
      ]
    },
    {
      "cell_type": "code",
      "source": [
        "%ls\n"
      ],
      "metadata": {
        "colab": {
          "base_uri": "https://localhost:8080/"
        },
        "id": "VrUnM2KWmBD4",
        "outputId": "4d083a7f-53fb-4d14-902c-368328e0c1b4"
      },
      "id": "VrUnM2KWmBD4",
      "execution_count": 81,
      "outputs": [
        {
          "output_type": "stream",
          "name": "stdout",
          "text": [
            "\u001b[0m\u001b[01;34m2025\u001b[0m/  analysis.ipynb  README.md  requirements.txt  \u001b[01;34mtask_1\u001b[0m/  \u001b[01;34mtask_2\u001b[0m/  \u001b[01;34mtask_2_5\u001b[0m/\n"
          ]
        }
      ]
    },
    {
      "cell_type": "code",
      "source": [],
      "metadata": {
        "id": "Klmtz0rQmCYg"
      },
      "id": "Klmtz0rQmCYg",
      "execution_count": null,
      "outputs": []
    },
    {
      "cell_type": "markdown",
      "id": "579b567a-2b80-4bf1-8cc1-c514da76ca50",
      "metadata": {
        "id": "579b567a-2b80-4bf1-8cc1-c514da76ca50"
      },
      "source": [
        "# (ADA) Homework 1: Scoring the Language Model Olympics\n",
        "\n",
        "---\n",
        "\n",
        "By the end of this homework, we expect you to be able to:\n",
        "\n",
        "- Load data and handle data using pandas;\n",
        "- Navigate the documentation of Python packages by yourself;\n",
        "- Filter and tidy up noisy real-world datasets;\n",
        "- Aggregate your data in different (and hopefully helpful) ways;\n",
        "- Create meaningful visualizations to analyze the data;\n",
        "- Communicate your findings in a clear and concise manner\n",
        "\n",
        "---\n",
        "\n",
        "**Some rules**\n",
        "\n",
        "- You are allowed to use any built-in Python library that comes with Anaconda. If you want to use an external library, you may do so, but must justify your choice.\n",
        "- Make sure you use the data folder provided in the repository in read-only mode. (Or alternatively, be sure you don’t change any of the files.)\n",
        "- For questions containing the /Discuss:/ prefix, answer not with code, but with a textual explanation (in markdown).\n",
        "- Back up any hypotheses and claims with data, since this is an important aspect of the course.\n",
        "- Please write all your comments in English, and use meaningful variable names in your code.\n",
        "---"
      ]
    },
    {
      "cell_type": "markdown",
      "id": "4f85896e-c0ae-4ae3-af41-46149faa2278",
      "metadata": {
        "id": "4f85896e-c0ae-4ae3-af41-46149faa2278"
      },
      "source": [
        "## Context\n",
        "\n",
        "Context\n",
        "AI is booming! Newspapers, influencers, and your relatives all agree that AI is important. But while almost everyone agrees that AI is the future, much is unclear about what that future looks like…\n",
        "\n",
        "Freshly graduated from the EPFL, you are hired by the Swiss government to advise on a large-scale “AI integration” initiative code-named **\"NEUTRALITY\"** (Navigating Efficient Upgrades Through Robust Artificial Learning Integration Techniques Yearly). Convinced by the stunning progress in language modeling, the government would like to battle the growing shortages in the education sector by using LMs. Your job description: investigate which LMs might be best suited!\n",
        "\n",
        "You are given the results of three LMs on the [“Massive Multitask Language Understanding (MMLU)”](https://arxiv.org/abs/2009.03300) dataset to compare. This famous dataset consists of 57 subjects with multiple-choice questions, covering diverse subjects like mathematics, computer science, history, and law. Most providers of state-of-the-art LMs use this dataset to showcase the versatility of their latest models. Unfortunately, Horta-Ribeiro, the intern responsible for collecting the results, didn’t take EPFL’s famous ADA course. As a result, the collected datasets are slightly corrupted.\n",
        "\n",
        "### A very brief primer on Language Models\n",
        "Language models (LMs) are sophisticated statistical models designed to understand and generate human-like text. At their core, LMs are trained to predict the most likely continuation of a given input text. For example, given the input \"The cat sat on the,\" an LM might predict \"mat\" as a likely continuation.\n",
        "LMs are trained on vast text samples from various sources, including books, websites, and social media. This extensive training allows them to capture patterns and relationships in language, enabling them to generate coherent and contextually appropriate text across a wide range of topics and styles.\n",
        "\n",
        "While LMs can produce text that appears to be written by intelligent humans, it's important to note that their capabilities can diverge from human intelligence in unexpected ways. They may sometimes generate factually incorrect information or struggle with complex reasoning tasks.\n",
        "\n",
        "Two key concepts in understanding LMs are:\n",
        "1. **Tokens**: LMs process text using \"tokens\" rather than individual characters. Tokens can be words, parts of words, or punctuation marks. For example, the sentence \"I love AI!\" might be tokenized as [\"I\", \"love\", \"AI\", \"!\"]. Tokenization is the first step in both training and using an LM.\n",
        "2. **Context**: The input text provided to an LM is called the \"context.\" This context informs the model's predictions or generations. A longer or more specific context often leads to more accurate and relevant outputs.\n",
        "\n",
        "[See: Wikipedia entry on language models](https://en.wikipedia.org/wiki/Large_language_model)\n",
        "\n",
        "###  Files for this assignment\n",
        "This assignment is divided into three tasks, each of which should bring you a step closer to providing a recommendation toward project NEUTRALITY’s objectives:\n",
        "\n",
        "- **Task 1**: Inspecting the results and getting your first model ranking\n",
        "- **Task 2**: Inspecting the underlying data used to generate the results for possible biases\n",
        "- **Task 3**: Learning about tokens and providing a final recommendation\n",
        "\n",
        "\n",
        "```\n",
        "📁 PROJECT_NEUTRALITY\n",
        "│\n",
        "├── 📄 analysis.ipynb (the file you're currently reading!)\n",
        "├── 📄 requirements.txt (install into your environment)\n",
        "│\n",
        "├── 📁 task_1\n",
        "├── 📁 task_2\n",
        "└── 📁 task_2.5\n",
        "```   \n",
        ""
      ]
    },
    {
      "cell_type": "code",
      "execution_count": null,
      "id": "95ce4c12-9681-401e-9489-aa0765b19d5d",
      "metadata": {
        "id": "95ce4c12-9681-401e-9489-aa0765b19d5d"
      },
      "outputs": [],
      "source": [
        "# please make sure you install the packages listed in the requirements.txt file in your environment!\n",
        "# using pip\n",
        "# pip install -r requirements.txt\n",
        "#\n",
        "# using Conda:\n",
        "# conda create --name <env_name> --file requirements.txt\n",
        "#\n",
        "# some basic imports\n",
        "import os\n",
        "import pandas as pd\n",
        "import numpy as np\n",
        "import matplotlib.pyplot as plt\n",
        "import warnings\n",
        "from scipy.stats import ttest_ind"
      ]
    },
    {
      "cell_type": "markdown",
      "id": "e62594ad-4f5f-4a46-80bc-deacf66b62e9",
      "metadata": {
        "id": "e62594ad-4f5f-4a46-80bc-deacf66b62e9"
      },
      "source": [
        "## Task 1 (18 points): What's in an average anyway?\n",
        "\n",
        "The files needed to complete task 1 can be found in the folder \"`data/task_1/`:\n",
        "```\n",
        "task_1/\n",
        "│\n",
        "├── mmlu_data/\n",
        "│   └── test.csv\n",
        "│\n",
        "└── lm_scores/\n",
        "    ├── lm_X.csv\n",
        "    ├── lm_Y.csv\n",
        "    └── lm_Z.csv\n",
        "```\n",
        "\n",
        "We will start by loading, (manually) inspecting, and cleaning the data. Although it doesn't seem \"glamorous\" (nor is it particularly fun...) - manually inspecting data is extremely important! In fact, it's one of the few things most AI and Data Science researchers agree on :). Next, we will take a first pass on ordering our Olympic podium between three LMs."
      ]
    },
    {
      "cell_type": "markdown",
      "id": "f8605646-79fa-4cb3-8137-b6951bd1e064",
      "metadata": {
        "id": "f8605646-79fa-4cb3-8137-b6951bd1e064"
      },
      "source": [
        "### 1.1 (1 pt)\n",
        "\n",
        "Load the subfiles contained in the `mmlu_data` and `lm_scores` folders into separate dataframes:\n",
        "- `df_test`\n",
        "- `df_x`\n",
        "- `df_y`\n",
        "- `df_z`\n",
        "\n",
        "for each, print their sizes."
      ]
    },
    {
      "cell_type": "code",
      "execution_count": null,
      "id": "e6ce5e96-7de6-463d-a00b-6a4b2cfc8cb3",
      "metadata": {
        "id": "e6ce5e96-7de6-463d-a00b-6a4b2cfc8cb3"
      },
      "outputs": [],
      "source": []
    },
    {
      "cell_type": "markdown",
      "id": "acbda57d-7df2-4e33-b31c-52bc0af6753e",
      "metadata": {
        "id": "acbda57d-7df2-4e33-b31c-52bc0af6753e"
      },
      "source": [
        "### 1.2 (4 pt)\n",
        "Unfortunately, LMs don't always output the format we want. In the column `result`, the value should be one of A, B, C, or D.\n",
        "\n",
        "A. For each of the LM score dataframes, use a `value_counts()` operation and print the results.\n",
        "\n",
        "B. /Discuss:/ Inspect the results and describe the types of answer formats you see. Besides the \"expected\" case, you should be able to find at least four unexpected formats."
      ]
    },
    {
      "cell_type": "code",
      "execution_count": null,
      "id": "79936f23",
      "metadata": {
        "id": "79936f23"
      },
      "outputs": [],
      "source": [
        "# A"
      ]
    },
    {
      "cell_type": "code",
      "execution_count": null,
      "id": "620f46cc",
      "metadata": {
        "id": "620f46cc"
      },
      "outputs": [],
      "source": [
        "# B"
      ]
    },
    {
      "cell_type": "markdown",
      "id": "88c5551d-1968-427b-bdd6-51d996898e7c",
      "metadata": {
        "id": "88c5551d-1968-427b-bdd6-51d996898e7c"
      },
      "source": [
        "### 1.3 (5 pt)\n",
        "Oh oh... That doesn't look great. Simply dropping all invalid answers seems overly wasteful, yet fixing all of these looks like a mess! Instead, let's focus for now on fixing just those answers of length < 10 characters that require only a single `str.replace()` operation.\n",
        "\n",
        "For example, if the answer looks like `--A--`, we could fix this by using the following simple function:\n",
        "\n",
        "```\n",
        "def clean_answer(s, pattern='-'):\n",
        "    return str(s).replace(pattern, '')\n",
        "\n",
        "dirty_answer = '--A--'\n",
        "clean_answer = clean_answer(dirty_answer)\n",
        "```\n",
        "\n",
        "A. Filter the three score dataframes to include only answers with less than 10 characters. Make a deep copy of the dataframes as you filter them.\n",
        "\n",
        "B. Modify the `clean_answer()` example function to clean the answers in the filtered data frames using the `apply()` functionality. Finally, make sure **all remaining answers are one of `A, B, C, or D`.**\n",
        "\n",
        "C. /Discuss:/ Compare the sizes of the original and filtered data frames. What do you see? Why might this be a problem?"
      ]
    },
    {
      "cell_type": "code",
      "execution_count": null,
      "id": "aef1f933-20bf-426a-ac9d-a35e273b9bd2",
      "metadata": {
        "id": "aef1f933-20bf-426a-ac9d-a35e273b9bd2"
      },
      "outputs": [],
      "source": [
        "# A"
      ]
    },
    {
      "cell_type": "code",
      "execution_count": null,
      "id": "fd54f296",
      "metadata": {
        "id": "fd54f296"
      },
      "outputs": [],
      "source": [
        "# B"
      ]
    },
    {
      "cell_type": "markdown",
      "id": "2415cd9b",
      "metadata": {
        "id": "2415cd9b"
      },
      "source": [
        "C. /Discuss:/"
      ]
    },
    {
      "cell_type": "markdown",
      "id": "da1cf129-09dd-47b1-9737-2c4d57eb8853",
      "metadata": {
        "id": "da1cf129-09dd-47b1-9737-2c4d57eb8853"
      },
      "source": [
        "### 1.4 (3 pt)\n",
        "\n",
        "Now that our answer columns are nicely formatted, let's take a look at model performance:\n",
        "\n",
        "A. Both the `MMLU` dataframes and the language model score data frames have the columns `question_id`. For each of the language model score data frames, use an inner join operation with the `df_test` dataframe on the `question_id` column.\n",
        "\n",
        "B. Add a new column to each of the resulting dataframes called `correct`, that checks if the model's answer in `result` is the same as the expected answer in the column `answer`. Then, print the average score of each model."
      ]
    },
    {
      "cell_type": "code",
      "execution_count": null,
      "id": "e66b36f3-f5a4-4237-9b48-39b21716d7aa",
      "metadata": {
        "id": "e66b36f3-f5a4-4237-9b48-39b21716d7aa"
      },
      "outputs": [],
      "source": [
        "# A"
      ]
    },
    {
      "cell_type": "code",
      "execution_count": null,
      "id": "50b024d2",
      "metadata": {
        "id": "50b024d2"
      },
      "outputs": [],
      "source": [
        "# B"
      ]
    },
    {
      "cell_type": "markdown",
      "id": "69decfd8-8083-4c2f-8263-a153d55efede",
      "metadata": {
        "id": "69decfd8-8083-4c2f-8263-a153d55efede"
      },
      "source": [
        "### 1.5 (5 pt)\n",
        "\n",
        "Hmmm, something doesn't seem quite right. Let's investigate how \"balanced\" this dataset is:\n",
        "\n",
        "A. For each of the 57 subjects in the MMLU, compare the number of questions answered by each model. Print the subjects for which there is a more than 10% difference.\n",
        "\n",
        "B. Propose and implement a reasonable way to rebalance the results. (e.g., while throwing away 100% of the results perfectly rebalances the results, it is not reasonable).\n",
        "\n",
        "C. Finally, print the updated accuracy on the rebalanced data.\n",
        "\n",
        "**hint:**:\n",
        "- (A) For a given subject, let model X and model Y have answered 181 and 200 questions respectively. You can consider this a 10% difference from the perspective of X since: (200 - 181) / 181 > 0.10"
      ]
    },
    {
      "cell_type": "code",
      "execution_count": null,
      "id": "19463002-732b-405b-8b44-77f702bdb665",
      "metadata": {
        "id": "19463002-732b-405b-8b44-77f702bdb665"
      },
      "outputs": [],
      "source": [
        "# A"
      ]
    },
    {
      "cell_type": "code",
      "execution_count": null,
      "id": "2fb8c324",
      "metadata": {
        "id": "2fb8c324"
      },
      "outputs": [],
      "source": [
        "# B"
      ]
    },
    {
      "cell_type": "code",
      "execution_count": null,
      "id": "affc3746",
      "metadata": {
        "id": "affc3746"
      },
      "outputs": [],
      "source": [
        "# C"
      ]
    },
    {
      "cell_type": "markdown",
      "id": "292b2f61-0529-4b6d-a3a7-af786a4d79ae",
      "metadata": {
        "id": "292b2f61-0529-4b6d-a3a7-af786a4d79ae"
      },
      "source": [
        "## Task 2 (26 points): What do you mean A > D > B > C...?\n",
        "\n",
        "Nice work! Having successfully inspected, cleaned, and rebalanced the provided data, you head over to director of the government's NEUTRALITY project. Ms. Sakota is happy with your work so far, but worried that the sloppy intern might have done more undetected damage. To be sure, she orders a new set of evaluations of all models on both MMLU and another dataset.\n",
        "\n",
        "After cleaning up and rebalancing, you are left with the concatenated score files in the second folder `task_2`:\n",
        "```\n",
        "task_2/\n",
        "│\n",
        "└── lm_scores_mmlu.csv\n",
        "│\n",
        "└── lm_scores_other.csv\n",
        "```\n",
        "\n",
        "Each has a new column called `model_name`, which is one of `X, Y` or `Z`.\n",
        "\n",
        "\n",
        "\n",
        "_NOTE: **only** use data from `task_2` and `task_2_5` for this assignment! The values in `lm_scores_mmlu.csv` will NOT be the same as the dataframes you finished in task 1. This is due to \"randomness\" or \"temperature\" in language model inference. This can slightly shift around generative results. (Conveniently: it also ensures any mistakes made in Task 1 don't propogate further ;) )_"
      ]
    },
    {
      "cell_type": "code",
      "source": [
        "%cd /content/2025/Homework/01_PROJECT_NEUTRALITY"
      ],
      "metadata": {
        "colab": {
          "base_uri": "https://localhost:8080/"
        },
        "id": "DAcmBp9woFyQ",
        "outputId": "e0327fc6-4f7c-4933-a5ae-0df11ee602c1"
      },
      "id": "DAcmBp9woFyQ",
      "execution_count": 82,
      "outputs": [
        {
          "output_type": "stream",
          "name": "stdout",
          "text": [
            "/content/2025/Homework/01_PROJECT_NEUTRALITY\n"
          ]
        }
      ]
    },
    {
      "cell_type": "code",
      "execution_count": 83,
      "id": "a889a76b-e034-4d2f-929e-0ef1f250a0a0",
      "metadata": {
        "id": "a889a76b-e034-4d2f-929e-0ef1f250a0a0"
      },
      "outputs": [],
      "source": [
        "# PROVIDED CODE\n",
        "df_mmlu = pd.read_csv('task_2/lm_scores_mmlu.csv')\n",
        "df_other = pd.read_csv('task_2/lm_scores_other.csv')"
      ]
    },
    {
      "cell_type": "markdown",
      "id": "c31edde3-cc91-4d08-81c7-b5e98cf0ff9c",
      "metadata": {
        "id": "c31edde3-cc91-4d08-81c7-b5e98cf0ff9c"
      },
      "source": [
        "### 2.1 (4 pt)\n",
        "\n",
        "Let's explore the new results:\n",
        "\n",
        "A. Compute the mean accuracy and standard errors of each model on both datasets and print the results.\n",
        "\n",
        "B. Then, show your results in a bar plot using standard errors with a 95% confidence interval around the mean. Make sure the plot is easy to read and well annotated.\n",
        "\n",
        "C. /Discuss:/ the plot you created: (i) can you say that one of the models is the best? (ii) is there anything that seems odd?"
      ]
    },
    {
      "cell_type": "code",
      "execution_count": null,
      "id": "56fe8cca-acd1-4f5e-a938-e8d3a850f220",
      "metadata": {
        "id": "56fe8cca-acd1-4f5e-a938-e8d3a850f220"
      },
      "outputs": [],
      "source": [
        "# A"
      ]
    },
    {
      "cell_type": "code",
      "execution_count": null,
      "id": "d3a176c6",
      "metadata": {
        "id": "d3a176c6"
      },
      "outputs": [],
      "source": [
        "# B"
      ]
    },
    {
      "cell_type": "markdown",
      "id": "65c9fbfe",
      "metadata": {
        "id": "65c9fbfe"
      },
      "source": [
        "C. /Discuss:/"
      ]
    },
    {
      "cell_type": "markdown",
      "id": "eee0ec62-f2d1-4bae-a6f6-221320d602cb",
      "metadata": {
        "id": "eee0ec62-f2d1-4bae-a6f6-221320d602cb"
      },
      "source": [
        "### 2.2 (5 pt)\n",
        "\n",
        "Ms. Sakota has assured you that both datasets contain questions of similar difficulty, so, what could be going on here?\n",
        "\n",
        "A. What is the distribution of correct answers (A, B, C, D) for each dataset? Create a bar chart to visualize this.\n",
        "\n",
        "B. Perform a chi-square test at $\\alpha = 0.05$, of independence to determine if there's a significant difference in the distribution of correct answers between the two datasets. What do you conclude?\n",
        "\n",
        "**hints**:\n",
        "- for (A), keep in mind that df_mmlu and df_other contain the results of all models, i.e., the `question_id` column is duplicated.\n",
        "- for (A), take care to clearly annotate the bar chart, e.g., title, y-label, legend.\n",
        "- for (B), clearly state the null hypothesis and alternative hypothesis\n",
        "- use the `chi2_contingency` function from `scipy.stats`\n",
        "- format your results from answer (A) as a 2D array"
      ]
    },
    {
      "cell_type": "code",
      "execution_count": null,
      "id": "30b16f70-93e0-4a19-8a6d-b3ae5a75ae65",
      "metadata": {
        "id": "30b16f70-93e0-4a19-8a6d-b3ae5a75ae65"
      },
      "outputs": [],
      "source": [
        "# A"
      ]
    },
    {
      "cell_type": "code",
      "execution_count": null,
      "id": "92392cd7",
      "metadata": {
        "id": "92392cd7"
      },
      "outputs": [],
      "source": [
        "# B"
      ]
    },
    {
      "cell_type": "markdown",
      "id": "2d3125ad-5a7e-44e7-999a-a0ff99855d39",
      "metadata": {
        "id": "2d3125ad-5a7e-44e7-999a-a0ff99855d39"
      },
      "source": [
        "### 2.3 (7 pt)\n",
        "\n",
        "Let's dive in deeper:\n",
        "\n",
        "A. What is language model X's mean accuracy conditioned on the four answer options for each dataset?\n",
        "\n",
        "B. Compare LM X's performance when the correct answer is \"A\" between the two datasets. Use a T-test with CI = 0.95. What do you conclude?\n",
        "\n",
        "C. Compare LM X's performance when the correct answer is \"A\" vs. \"C or D\" for each dataset. Use a T-test with CI = 0.95. What do you conclude?"
      ]
    },
    {
      "cell_type": "code",
      "execution_count": null,
      "id": "39097a11-8efe-46d1-8bc3-5587bb58d199",
      "metadata": {
        "id": "39097a11-8efe-46d1-8bc3-5587bb58d199"
      },
      "outputs": [],
      "source": [
        "# A"
      ]
    },
    {
      "cell_type": "code",
      "execution_count": null,
      "id": "9ae67c09",
      "metadata": {
        "id": "9ae67c09"
      },
      "outputs": [],
      "source": [
        "# B"
      ]
    },
    {
      "cell_type": "code",
      "execution_count": null,
      "id": "636af6a6",
      "metadata": {
        "id": "636af6a6"
      },
      "outputs": [],
      "source": [
        "# C"
      ]
    },
    {
      "cell_type": "markdown",
      "id": "33848ff9-2604-4e48-b5df-3207dc81e9a9",
      "metadata": {
        "id": "33848ff9-2604-4e48-b5df-3207dc81e9a9"
      },
      "source": [
        "### 2.4 (2 pt)\n",
        "\n",
        "What an intriguing finding!\n",
        "\n",
        "A. Print the mean accuracies conditioned on the correct answer for all LMs for each dataset.\n",
        "\n",
        "B. /Discuss:/ What do you observe?"
      ]
    },
    {
      "cell_type": "code",
      "execution_count": 84,
      "id": "ec53ce2c-866e-440a-ac79-7813cb756782",
      "metadata": {
        "colab": {
          "base_uri": "https://localhost:8080/"
        },
        "id": "ec53ce2c-866e-440a-ac79-7813cb756782",
        "outputId": "21d0bf26-7c85-42a7-a848-a2e249115fec"
      },
      "outputs": [
        {
          "output_type": "stream",
          "name": "stdout",
          "text": [
            "LM X mean accuracy by correct answer (MMLU):\n",
            "answer\n",
            "A    0.972688\n",
            "B    0.799185\n",
            "C    0.707905\n",
            "D    0.633592\n",
            "Name: correct, dtype: float64\n",
            "\n",
            "LM X mean accuracy by correct answer (Shuffle):\n",
            "answer\n",
            "A    0.968496\n",
            "B    0.804838\n",
            "C    0.704530\n",
            "D    0.644172\n",
            "Name: correct, dtype: float64\n",
            "\n",
            "T-test (Correct answer = 'A' between MMLU and Shuffle):\n",
            "t-statistic: 0.8091, p-value: 0.4185\n",
            "→ No significant difference for answer 'A' between datasets.\n",
            "\n",
            "T-test (within each dataset):\n",
            "MMLU - A vs (C or D): t=44.0588, p=0.0000\n",
            "→ Significant difference in MMLU between A and (C/D) answers\n",
            "Shuffle - A vs (C or D): t=41.9432, p=0.0000\n",
            "→ Significant difference in Shuffle between A and (C/D)\n"
          ]
        }
      ],
      "source": [
        "import pandas as pd\n",
        "from scipy.stats import ttest_ind\n",
        "\n",
        "# === Load the two datasets ===\n",
        "df_mmlu = pd.read_csv(\"task_2/lm_scores_mmlu.csv\")\n",
        "df_shuffle = pd.read_csv(\"task_2_5/lm_scores_mmlu_shuffle.csv\")\n",
        "\n",
        "# Filtra il modello X (come richiesto)\n",
        "df_x_mmlu = df_mmlu[df_mmlu[\"model_name\"] == \"X\"]\n",
        "df_x_shuffle = df_shuffle[df_shuffle[\"model_name\"] == \"X\"]\n",
        "\n",
        "# === 2.3.A ===\n",
        "# Mean accuracy conditioned on the correct answer option for each dataset\n",
        "mean_acc_mmlu = df_x_mmlu.groupby(\"answer\")[\"correct\"].mean()\n",
        "mean_acc_shuffle = df_x_shuffle.groupby(\"answer\")[\"correct\"].mean()\n",
        "\n",
        "print(\"LM X mean accuracy by correct answer (MMLU):\")\n",
        "print(mean_acc_mmlu)\n",
        "print(\"\\nLM X mean accuracy by correct answer (Shuffle):\")\n",
        "print(mean_acc_shuffle)\n",
        "\n",
        "# === 2.3.B ===\n",
        "# Compare LM X's performance when the correct answer is \"A\" between datasets\n",
        "a_mmlu = df_x_mmlu[df_x_mmlu[\"answer\"] == \"A\"][\"correct\"]\n",
        "a_shuffle = df_x_shuffle[df_x_shuffle[\"answer\"] == \"A\"][\"correct\"]\n",
        "\n",
        "t_stat, p_val = ttest_ind(a_mmlu, a_shuffle, equal_var=False)\n",
        "\n",
        "print(\"\\nT-test (Correct answer = 'A' between MMLU and Shuffle):\")\n",
        "print(f\"t-statistic: {t_stat:.4f}, p-value: {p_val:.4f}\")\n",
        "\n",
        "if p_val < 0.05:\n",
        "    print(\"→ Significant difference in performance for answer 'A' between datasets.\")\n",
        "else:\n",
        "    print(\"→ No significant difference for answer 'A' between datasets.\")\n",
        "\n",
        "# === 2.3.C ===\n",
        "# Compare 'A' vs. 'C or D' for each dataset\n",
        "cd_mmlu = df_x_mmlu[df_x_mmlu[\"answer\"].isin([\"C\", \"D\"])][\"correct\"]\n",
        "cd_shuffle = df_x_shuffle[df_x_shuffle[\"answer\"].isin([\"C\", \"D\"])][\"correct\"]\n",
        "\n",
        "# Test within each dataset\n",
        "t_mmlu, p_mmlu = ttest_ind(a_mmlu, cd_mmlu, equal_var=False)\n",
        "t_shuffle, p_shuffle = ttest_ind(a_shuffle, cd_shuffle, equal_var=False)\n",
        "\n",
        "print(\"\\nT-test (within each dataset):\")\n",
        "print(f\"MMLU - A vs (C or D): t={t_mmlu:.4f}, p={p_mmlu:.4f}\")\n",
        "if p_mmlu < 0.05:\n",
        "    print(\"→ Significant difference in MMLU between A and (C/D) answers\")\n",
        "else:\n",
        "    print(\"→ No significant difference in MMLU between A and (C/D)\")\n",
        "\n",
        "print(f\"Shuffle - A vs (C or D): t={t_shuffle:.4f}, p={p_shuffle:.4f}\")\n",
        "if p_shuffle < 0.05:\n",
        "    print(\"→ Significant difference in Shuffle between A and (C/D)\")\n",
        "else:\n",
        "    print(\"→ No significant difference in Shuffle between A and (C/D)\")"
      ]
    },
    {
      "cell_type": "code",
      "source": [
        "import pandas as pd\n",
        "\n",
        "# Carica i due dataset\n",
        "df_mmlu = pd.read_csv(\"task_2/lm_scores_mmlu.csv\")\n",
        "df_shuffle = pd.read_csv(\"task_2_5/lm_scores_mmlu_shuffle.csv\")\n",
        "\n",
        "# Filtra solo il modello X\n",
        "df_x_mmlu = df_mmlu[df_mmlu[\"model_name\"] == \"X\"]\n",
        "df_x_shuffle = df_shuffle[df_shuffle[\"model_name\"] == \"X\"]\n",
        "\n",
        "# Conta le risposte fornite (colonna 'result')\n",
        "count_mmlu = df_x_mmlu[\"result\"].value_counts().sort_index()\n",
        "count_shuffle = df_x_shuffle[\"result\"].value_counts().sort_index()\n",
        "\n",
        "# Calcola anche le percentuali per comodità\n",
        "perc_mmlu = df_x_mmlu[\"result\"].value_counts(normalize=True).sort_index() * 100\n",
        "perc_shuffle = df_x_shuffle[\"result\"].value_counts(normalize=True).sort_index() * 100\n",
        "\n",
        "# Stampa i risultati\n",
        "print(\"Counts of model X answers (MMLU):\")\n",
        "print(count_mmlu)\n",
        "print(\"\\nCounts of model X answers (Shuffle):\")\n",
        "print(count_shuffle)\n",
        "\n",
        "print(\"\\nPercentage of answers (MMLU):\")\n",
        "print(perc_mmlu.round(2))\n",
        "print(\"\\nPercentage of answers (Shuffle):\")\n",
        "print(perc_shuffle.round(2))"
      ],
      "metadata": {
        "colab": {
          "base_uri": "https://localhost:8080/"
        },
        "id": "wDCT4MM2ptL4",
        "outputId": "a9cd3f6e-bd51-4054-8205-dddeb8b00780"
      },
      "id": "wDCT4MM2ptL4",
      "execution_count": 85,
      "outputs": [
        {
          "output_type": "stream",
          "name": "stdout",
          "text": [
            "Counts of model X answers (MMLU):\n",
            "result\n",
            "A    4259\n",
            "B    2659\n",
            "C    2409\n",
            "D    2369\n",
            "Name: count, dtype: int64\n",
            "\n",
            "Counts of model X answers (Shuffle):\n",
            "result\n",
            "A    5106\n",
            "B    2752\n",
            "C    2053\n",
            "D    1785\n",
            "Name: count, dtype: int64\n",
            "\n",
            "Percentage of answers (MMLU):\n",
            "result\n",
            "A    36.41\n",
            "B    22.73\n",
            "C    20.60\n",
            "D    20.25\n",
            "Name: proportion, dtype: float64\n",
            "\n",
            "Percentage of answers (Shuffle):\n",
            "result\n",
            "A    43.66\n",
            "B    23.53\n",
            "C    17.55\n",
            "D    15.26\n",
            "Name: proportion, dtype: float64\n"
          ]
        }
      ]
    },
    {
      "cell_type": "code",
      "source": [
        "import pandas as pd\n",
        "\n",
        "# Carica i dataset\n",
        "df_mmlu = pd.read_csv(\"task_2/lm_scores_mmlu.csv\")\n",
        "df_shuffle = pd.read_csv(\"task_2_5/lm_scores_mmlu_shuffle.csv\")\n",
        "\n",
        "# Percentuale di volte in cui la risposta corretta è \"A\"\n",
        "prop_a_mmlu = (df_mmlu[\"answer\"].value_counts(normalize=True) * 100).get(\"A\", 0)\n",
        "prop_a_shuffle = (df_shuffle[\"answer\"].value_counts(normalize=True) * 100).get(\"A\", 0)\n",
        "\n",
        "# Stampa i risultati\n",
        "print(f\"Percentuale di domande con risposta corretta = 'A' (MMLU): {prop_a_mmlu:.2f}%\")\n",
        "print(f\"Percentuale di domande con risposta corretta = 'A' (Shuffle): {prop_a_shuffle:.2f}%\")\n",
        "\n",
        "# (Facoltativo) Mostra il breakdown completo per A–B–C–D\n",
        "print(\"\\nDistribuzione completa (MMLU):\")\n",
        "print((df_mmlu[\"answer\"].value_counts(normalize=True) * 100).round(2))\n",
        "print(\"\\nDistribuzione completa (Shuffle):\")\n",
        "print((df_shuffle[\"answer\"].value_counts(normalize=True) * 100).round(2))"
      ],
      "metadata": {
        "colab": {
          "base_uri": "https://localhost:8080/"
        },
        "id": "f01MdvLpqV23",
        "outputId": "7777b399-bf68-48ab-ba61-2f0af9b7fd85"
      },
      "id": "f01MdvLpqV23",
      "execution_count": 86,
      "outputs": [
        {
          "output_type": "stream",
          "name": "stdout",
          "text": [
            "Percentuale di domande con risposta corretta = 'A' (MMLU): 13.77%\n",
            "Percentuale di domande con risposta corretta = 'A' (Shuffle): 25.24%\n",
            "\n",
            "Distribuzione completa (MMLU):\n",
            "answer\n",
            "D    31.97\n",
            "C    29.10\n",
            "B    25.16\n",
            "A    13.77\n",
            "Name: proportion, dtype: float64\n",
            "\n",
            "Distribuzione completa (Shuffle):\n",
            "answer\n",
            "B    26.15\n",
            "A    25.24\n",
            "C    24.91\n",
            "D    23.69\n",
            "Name: proportion, dtype: float64\n"
          ]
        }
      ]
    },
    {
      "cell_type": "code",
      "source": [
        "import pandas as pd\n",
        "\n",
        "# Carica i due dataset\n",
        "df_mmlu = pd.read_csv(\"task_2/lm_scores_mmlu.csv\")\n",
        "df_shuffle = pd.read_csv(\"task_2_5/lm_scores_mmlu_shuffle.csv\")\n",
        "\n",
        "# Filtra solo model X\n",
        "df_x_mmlu = df_mmlu[df_mmlu[\"model_name\"] == \"X\"]\n",
        "df_x_shuffle = df_shuffle[df_shuffle[\"model_name\"] == \"X\"]\n",
        "\n",
        "# Calcola l'accuratezza media (colonna 'correct' = True/False)\n",
        "acc_mmlu = df_x_mmlu[\"correct\"].mean() * 100\n",
        "acc_shuffle = df_x_shuffle[\"correct\"].mean() * 100\n",
        "\n",
        "# Stampa i risultati\n",
        "print(f\"Accuracy modello X (MMLU originale): {acc_mmlu:.2f}%\")\n",
        "print(f\"Accuracy modello X (MMLU shuffled): {acc_shuffle:.2f}%\")\n",
        "print(f\"Differenza: {acc_shuffle - acc_mmlu:.2f} punti percentuali\")"
      ],
      "metadata": {
        "colab": {
          "base_uri": "https://localhost:8080/"
        },
        "id": "KCW5M4Jcq6Xf",
        "outputId": "5cdee7a4-bb95-44ca-9f29-95a5a60bb742"
      },
      "id": "KCW5M4Jcq6Xf",
      "execution_count": 87,
      "outputs": [
        {
          "output_type": "stream",
          "name": "stdout",
          "text": [
            "Accuracy modello X (MMLU originale): 74.36%\n",
            "Accuracy modello X (MMLU shuffled): 78.31%\n",
            "Differenza: 3.95 punti percentuali\n"
          ]
        }
      ]
    },
    {
      "cell_type": "markdown",
      "id": "4ce58e47",
      "metadata": {
        "id": "4ce58e47"
      },
      "source": [
        "B. /Discuss:/"
      ]
    },
    {
      "cell_type": "markdown",
      "id": "ccdd9d3c-5a03-4b30-84f7-a7dfbee1373e",
      "metadata": {
        "id": "ccdd9d3c-5a03-4b30-84f7-a7dfbee1373e"
      },
      "source": [
        "### 2.5 (2 pt)\n",
        "\n",
        "Concerned with your findings so far, you quickly consult with Ms. Sakota. After thinking it over, Ms. Sakota concludes that more tests are needed. She orders a second round of MMLU results. However, the clever Ms. Sakota thinks of the following twist: while keeping questions fixed, she randomly permutes the position of the correct answer. The new results can be found in the folder `data/task_2_5/`:\n",
        "```\n",
        "task_2_5/\n",
        "│\n",
        "└── lm_scores_mmlu_shuffle.csv\n",
        "```\n",
        "\n",
        "/Discuss:/ Why would Ms. Sakota do this?"
      ]
    },
    {
      "cell_type": "markdown",
      "id": "64cc586a",
      "metadata": {
        "id": "64cc586a"
      },
      "source": [
        "/Discuss:/"
      ]
    },
    {
      "cell_type": "markdown",
      "id": "b9150ae0-dbaa-4c88-bf80-ec03127c6945",
      "metadata": {
        "id": "b9150ae0-dbaa-4c88-bf80-ec03127c6945"
      },
      "source": [
        "### 2.6 (4 pt)\n",
        "\n",
        "Increasingly sceptical of the language models' performance, you read up on proper testing practices. You stumble upon the concept of [test-rested stability](https://en.wikipedia.org/wiki/Repeatability), which roughtly states that:\n",
        "\n",
        "\"_Measurements taken by a single person or instrument on the same item, under the same conditions, and in a short period of time, should have the same results._\"\n",
        "\n",
        "In our case, we would assume an LM would have the same performance on a given question regardless of the correct answer position. One way of testing this is by using the following metric:\n",
        "\n",
        "$$\\text{test-retest metric} = \\frac{1}{N}\\sum_{i=1}^N \\frac{1}{M}\\sum_{j=1}^M c^i_0 c_j^i,$$\n",
        "\n",
        "where $c^i_0 \\in \\{0, 1\\}$ indicates whether the model answers the $i^{\\text{th}}$ question correctly (1 if correct, 0 if incorrect). $c_j^i$ indicates whether the model answers the $i^{\\text{th}}$ question correctly in the $j^{\\text{th}}$ shuffled version of the answer label content. Finally, $M$ is the total number of shuffles and $N$ is the dataset size.\n",
        "\n",
        "Task: compute the test-retest metric for each language model using the original `lm_scores_mmlu.csv` file and the new `lm_scores_mmlu_shuffle.csv` file. Using a bar plot, visualize your results by comparing the accuracy of the original `lm_scores_mmlu.csv` and the test-retest scores.\n",
        "\n",
        "**hints**\n",
        "- what is $M$ in our case?\n",
        "\n",
        "(bonus: no points, but so much sweet, sweet knowledge - check out [the following article](https://arxiv.org/pdf/2406.19470v1))"
      ]
    },
    {
      "cell_type": "code",
      "execution_count": 88,
      "id": "5b55fcfc-6de9-4cd3-bf2d-bde399ae2fbc",
      "metadata": {
        "colab": {
          "base_uri": "https://localhost:8080/",
          "height": 646
        },
        "id": "5b55fcfc-6de9-4cd3-bf2d-bde399ae2fbc",
        "outputId": "6a8a3b4a-078d-4777-afe3-eeee3acfd0f7"
      },
      "outputs": [
        {
          "output_type": "stream",
          "name": "stdout",
          "text": [
            "Accuracy originale per modello:\n",
            "model_name\n",
            "X    0.743588\n",
            "Y    0.761542\n",
            "Z    0.655951\n",
            "Name: correct_orig, dtype: float64\n",
            "\n",
            "Test–retest metric per modello:\n",
            "model_name\n",
            "X    0.588406\n",
            "Y    0.571648\n",
            "Z    0.441604\n",
            "Name: prod, dtype: float64\n"
          ]
        },
        {
          "output_type": "display_data",
          "data": {
            "text/plain": [
              "<Figure size 800x400 with 1 Axes>"
            ],
            "image/png": "[encoded data removed]"
          },
          "metadata": {}
        }
      ],
      "source": [
        "import pandas as pd\n",
        "import matplotlib.pyplot as plt\n",
        "\n",
        "# Carica i dataset\n",
        "df_orig = pd.read_csv(\"task_2/lm_scores_mmlu.csv\")\n",
        "df_shuffle = pd.read_csv(\"task_2_5/lm_scores_mmlu_shuffle.csv\")\n",
        "\n",
        "# Rinomina le colonne di correct per distinguerle\n",
        "df_orig = df_orig.rename(columns={\"correct\": \"correct_orig\"})\n",
        "df_shuffle = df_shuffle.rename(columns={\"correct\": \"correct_shuffle\"})\n",
        "\n",
        "# Unisci per stessa domanda e stesso modello\n",
        "merged = pd.merge(\n",
        "    df_orig, df_shuffle, on=[\"question_id\", \"model_name\"], suffixes=(\"_orig\", \"_shuffle\")\n",
        ")\n",
        "\n",
        "# Calcola il test–retest metric per ogni modello\n",
        "test_retest = (\n",
        "    merged.assign(prod=merged[\"correct_orig\"] * merged[\"correct_shuffle\"])\n",
        "    .groupby(\"model_name\")[\"prod\"]\n",
        "    .mean()\n",
        ")\n",
        "\n",
        "# Calcola anche l’accuratezza media “normale” (solo nel test originale)\n",
        "acc = df_orig.groupby(\"model_name\")[\"correct_orig\"].mean()\n",
        "\n",
        "# Mostra i risultati\n",
        "print(\"Accuracy originale per modello:\")\n",
        "print(acc)\n",
        "print(\"\\nTest–retest metric per modello:\")\n",
        "print(test_retest)\n",
        "\n",
        "# 🔹 Visualizzazione\n",
        "results = pd.DataFrame(\n",
        "    {\"Accuracy\": acc * 100, \"Test-retest\": test_retest * 100}\n",
        ")\n",
        "\n",
        "results.plot(kind=\"bar\", figsize=(8, 4))\n",
        "plt.ylabel(\"Percentage (%)\")\n",
        "plt.title(\"Model Accuracy vs Test–Retest Stability\")\n",
        "plt.grid(axis=\"y\", linestyle=\":\")\n",
        "plt.show()"
      ]
    },
    {
      "cell_type": "markdown",
      "id": "b70bee6e-0c81-4f5a-b1a8-16a96aa2ae17",
      "metadata": {
        "id": "b70bee6e-0c81-4f5a-b1a8-16a96aa2ae17"
      },
      "source": [
        "### 2.7 (2 pt)\n",
        "\n",
        "A. Using the unshuffled data: For each LM, print the distribution of the answers they give as well as the accuracy conditioned on the answer they give.\n",
        "\n",
        "B. /Discuss:/ Describe what you observe\n",
        "\n",
        "[bonus: not scored, but again _that sweet, sweet knowledge_] Could you think of a plausible explanation?"
      ]
    },
    {
      "cell_type": "code",
      "execution_count": 95,
      "id": "4956581b-d047-46cb-ae71-1508a9a0b466",
      "metadata": {
        "colab": {
          "base_uri": "https://localhost:8080/",
          "height": 460
        },
        "id": "4956581b-d047-46cb-ae71-1508a9a0b466",
        "outputId": "4e44b9bb-3155-4bdf-92a1-6fee4b4b8a96"
      },
      "outputs": [
        {
          "output_type": "display_data",
          "data": {
            "text/plain": [
              "<Figure size 2000x500 with 4 Axes>"
            ],
            "image/png": "[encoded data removed]"
          },
          "metadata": {}
        }
      ],
      "source": [
        "import pandas as pd\n",
        "import matplotlib.pyplot as plt\n",
        "import numpy as np\n",
        "\n",
        "# --- Carica dataset ---\n",
        "df = pd.read_csv(\"task_2/lm_scores_mmlu.csv\")  # o lm_scores_mmlu_shuffle.csv\n",
        "title_prefix = \"Unshuffled data\"  # cambia in \"Shuffled data\" se serve\n",
        "\n",
        "# --- Crea figura con 4 sottografici orizzontali ---\n",
        "fig, axes = plt.subplots(1, 4, figsize=(20, 5))\n",
        "colors = [\"#4c72b0\", \"#dd8452\", \"#55a868\"]\n",
        "\n",
        "# =================================================================================\n",
        "# 1️⃣ DISTRIBUZIONE RISPOSTE DATE (COLONNE AFFIANCATE)\n",
        "# =================================================================================\n",
        "\n",
        "models = df[\"model_name\"].unique()\n",
        "letters = [\"A\", \"B\", \"C\", \"D\"]\n",
        "bar_width = 0.25\n",
        "x = np.arange(len(letters))\n",
        "\n",
        "for i, model in enumerate(models):\n",
        "    # calcola proporzione risposte del modello\n",
        "    data = df[df[\"model_name\"] == model]\n",
        "    prop = data[\"result\"].value_counts(normalize=True).reindex(letters, fill_value=0) * 100\n",
        "    axes[0].bar(\n",
        "        x + i * bar_width,\n",
        "        prop.values,\n",
        "        width=bar_width,\n",
        "        label=f\"Model {model}\",\n",
        "        color=colors[i],\n",
        "        alpha=0.8,\n",
        "    )\n",
        "\n",
        "axes[0].set_xticks(x + bar_width)\n",
        "axes[0].set_xticklabels(letters)\n",
        "axes[0].set_ylabel(\"Proportion of answers (%)\")\n",
        "axes[0].set_title(\"Given answers distribution\")\n",
        "axes[0].legend()\n",
        "\n",
        "# =================================================================================\n",
        "# 2️⃣ ACCURATEZZA CONDIZIONATA ALL'OPZIONE SCELTA\n",
        "# =================================================================================\n",
        "acc_plot = df.groupby([\"model_name\", \"result\"])[\"correct\"].mean().unstack()\n",
        "acc_plot = acc_plot.reindex(columns=letters)\n",
        "acc_plot.T.plot(kind=\"bar\", ax=axes[1], color=colors, alpha=0.9)\n",
        "axes[1].set_title(\"Accuracy conditioned on chosen answer\")\n",
        "axes[1].set_ylabel(\"Accuracy\")\n",
        "axes[1].legend(title=\"Model\")\n",
        "\n",
        "# =================================================================================\n",
        "# 3️⃣ DISTRIBUZIONE RISPOSTE CORRETTE NEL DATASET\n",
        "# =================================================================================\n",
        "prop_corr = df[\"answer\"].value_counts(normalize=True).reindex(letters, fill_value=0) * 100\n",
        "axes[2].bar(letters, prop_corr.values, color=\"#9999cc\", alpha=0.85)\n",
        "axes[2].set_title(\"Distribution of correct answers (dataset)\")\n",
        "axes[2].set_ylabel(\"Proportion of correct answers (%)\")\n",
        "\n",
        "# =================================================================================\n",
        "# 4️⃣ ACCURATEZZA COMPLESSIVA PER MODELLO\n",
        "# =================================================================================\n",
        "acc_total = df.groupby(\"model_name\")[\"correct\"].mean() * 100\n",
        "axes[3].bar(acc_total.index, acc_total.values, color=colors, alpha=0.85)\n",
        "for i, v in enumerate(acc_total.values):\n",
        "    axes[3].text(i, v + 1, f\"{v:.1f}%\", ha=\"center\", fontweight=\"bold\")\n",
        "axes[3].set_title(\"Overall model accuracies\")\n",
        "axes[3].set_ylabel(\"Accuracy (%)\")\n",
        "\n",
        "# =================================================================================\n",
        "plt.suptitle(f\"Overview — {title_prefix}\", fontsize=14, fontweight=\"bold\", y=1.05)\n",
        "plt.tight_layout()\n",
        "plt.show()"
      ]
    },
    {
      "cell_type": "code",
      "source": [
        "import pandas as pd\n",
        "import matplotlib.pyplot as plt\n",
        "import numpy as np\n",
        "\n",
        "# --- Carica dataset ---\n",
        "df = pd.read_csv(\"task_2_5/lm_scores_mmlu_shuffle.csv\")  # o lm_scores_mmlu_shuffle.csv\n",
        "title_prefix = \"Shuffled data\"  # cambia in \"Shuffled data\" se serve\n",
        "\n",
        "# --- Crea figura con 4 sottografici orizzontali ---\n",
        "fig, axes = plt.subplots(1, 4, figsize=(20, 5))\n",
        "colors = [\"#4c72b0\", \"#dd8452\", \"#55a868\"]\n",
        "\n",
        "# =================================================================================\n",
        "# 1️⃣ DISTRIBUZIONE RISPOSTE DATE (COLONNE AFFIANCATE)\n",
        "# =================================================================================\n",
        "\n",
        "models = df[\"model_name\"].unique()\n",
        "letters = [\"A\", \"B\", \"C\", \"D\"]\n",
        "bar_width = 0.25\n",
        "x = np.arange(len(letters))\n",
        "\n",
        "for i, model in enumerate(models):\n",
        "    # calcola proporzione risposte del modello\n",
        "    data = df[df[\"model_name\"] == model]\n",
        "    prop = data[\"result\"].value_counts(normalize=True).reindex(letters, fill_value=0) * 100\n",
        "    axes[0].bar(\n",
        "        x + i * bar_width,\n",
        "        prop.values,\n",
        "        width=bar_width,\n",
        "        label=f\"Model {model}\",\n",
        "        color=colors[i],\n",
        "        alpha=0.8,\n",
        "    )\n",
        "\n",
        "axes[0].set_xticks(x + bar_width)\n",
        "axes[0].set_xticklabels(letters)\n",
        "axes[0].set_ylabel(\"Proportion of answers (%)\")\n",
        "axes[0].set_title(\"Given answers distribution\")\n",
        "axes[0].legend()\n",
        "\n",
        "# =================================================================================\n",
        "# 2️⃣ ACCURATEZZA CONDIZIONATA ALL'OPZIONE SCELTA\n",
        "# =================================================================================\n",
        "acc_plot = df.groupby([\"model_name\", \"result\"])[\"correct\"].mean().unstack()\n",
        "acc_plot = acc_plot.reindex(columns=letters)\n",
        "acc_plot.T.plot(kind=\"bar\", ax=axes[1], color=colors, alpha=0.9)\n",
        "axes[1].set_title(\"Accuracy conditioned on chosen answer\")\n",
        "axes[1].set_ylabel(\"Accuracy\")\n",
        "axes[1].legend(title=\"Model\")\n",
        "\n",
        "# =================================================================================\n",
        "# 3️⃣ DISTRIBUZIONE RISPOSTE CORRETTE NEL DATASET\n",
        "# =================================================================================\n",
        "prop_corr = df[\"answer\"].value_counts(normalize=True).reindex(letters, fill_value=0) * 100\n",
        "axes[2].bar(letters, prop_corr.values, color=\"#9999cc\", alpha=0.85)\n",
        "axes[2].set_title(\"Distribution of correct answers (dataset)\")\n",
        "axes[2].set_ylabel(\"Proportion of correct answers (%)\")\n",
        "\n",
        "# =================================================================================\n",
        "# 4️⃣ ACCURATEZZA COMPLESSIVA PER MODELLO\n",
        "# =================================================================================\n",
        "acc_total = df.groupby(\"model_name\")[\"correct\"].mean() * 100\n",
        "axes[3].bar(acc_total.index, acc_total.values, color=colors, alpha=0.85)\n",
        "for i, v in enumerate(acc_total.values):\n",
        "    axes[3].text(i, v + 1, f\"{v:.1f}%\", ha=\"center\", fontweight=\"bold\")\n",
        "axes[3].set_title(\"Overall model accuracies\")\n",
        "axes[3].set_ylabel(\"Accuracy (%)\")\n",
        "\n",
        "# =================================================================================\n",
        "plt.suptitle(f\"Overview — {title_prefix}\", fontsize=14, fontweight=\"bold\", y=1.05)\n",
        "plt.tight_layout()\n",
        "plt.show()"
      ],
      "metadata": {
        "id": "mDfQkHVttu5f",
        "outputId": "11fb26c3-28b7-4eb0-93f3-d4a5b5f835e6",
        "colab": {
          "base_uri": "https://localhost:8080/",
          "height": 460
        }
      },
      "id": "mDfQkHVttu5f",
      "execution_count": 98,
      "outputs": [
        {
          "output_type": "display_data",
          "data": {
            "text/plain": [
              "<Figure size 2000x500 with 4 Axes>"
            ],
            "image/png": "[encoded data removed]"
          },
          "metadata": {}
        }
      ]
    },
    {
      "cell_type": "markdown",
      "id": "65639228",
      "metadata": {
        "id": "65639228"
      },
      "source": [
        "B. /Discuss:/"
      ]
    },
    {
      "cell_type": "markdown",
      "id": "ce3186fe-ef8e-4af3-9a07-a6081d454e5a",
      "metadata": {
        "id": "ce3186fe-ef8e-4af3-9a07-a6081d454e5a"
      },
      "source": [
        "## Task 3 (16 points): What do Questions and Answers look like for a Language Model?\n",
        "\n",
        "While you feel pretty good about the tests you conducted so far, something still bothers you: what if the language models don't see the data like you do? Suddenly, you receive a phone call from a wise AI sage in the West, _Westoda_:\n",
        "\n",
        "```\n",
        "\"Hmm, correct you are, young padawan, to question how the world is seen by large language models! Simple 'text' it is not, hmm? No, no, no! Characters and words, the way of puny humans, this is not, heh heh heh.\n",
        "\n",
        "'Tokens', they use, yes! Mysterious and powerful, these tokens are. Expand our vocabulary, they do, beyond the simple 'a to Z'. Chunky blocks of text, they become, yes! 'Hello world', a simple phrase it may seem. But to a language model, '[24912, 2375]' it might appear, yes! Confusing, it is, hmm?\n",
        "\n",
        "Wise, it would be, to explore these MMLU data points through the eyes of a language model, you think? Yes, yes! Much to learn, there is. The ways of the tokens, understand you must, if truly comprehend the great LMs, you wish to.\n",
        "Meditate on this, you should. The force of natural language processing, strong it is. But patience, you must have, my young padawan. For only through great study and contemplation, will the mysteries of the tokens reveal themselves to you, they will. Yes, hmmm!\"\n",
        "```\n",
        "\n",
        "Admittingly, Westoda at times speaks in riddles… However, he was explaining a crucial aspect of modern LMs called [Tokenization](https://learn.microsoft.com/en-us/dotnet/ai/conceptual/understanding-tokens):\n",
        "\n",
        "\n",
        "“Tokens are words, character sets, or combinations of words and punctuation that are used by [language models (LMs)] to decompose text into. Tokenization is the first step in training”\n",
        "\n",
        "Instead of characters, LMs process natural language using “tokens”. While this is useful for a number of reasons, it does at times introduce some “unintuitive” behavior…"
      ]
    },
    {
      "cell_type": "code",
      "execution_count": null,
      "id": "e2c66517-938b-4331-9eea-1b23fe4ad9e7",
      "metadata": {
        "id": "e2c66517-938b-4331-9eea-1b23fe4ad9e7"
      },
      "outputs": [],
      "source": [
        "# PROVIDED CODE\n",
        "\n",
        "try:\n",
        "    import tiktoken\n",
        "except Exception as e:\n",
        "    print('installing tiktoken package')\n",
        "\n",
        "    !pip install tiktoken\n",
        "\n",
        "    import tiktoken\n",
        "\n",
        "def tokenize_text(s):\n",
        "    enc = tiktoken.encoding_for_model('gpt-4o')\n",
        "    tokens = enc.encode(str(s))\n",
        "    return tokens\n",
        "\n",
        "example_string = 'hello world'\n",
        "print(f'humans see: \"{example_string}\" --> language models see: {tokenize_text(example_string)}')"
      ]
    },
    {
      "cell_type": "markdown",
      "id": "3c8019ee-7d52-496f-afff-c96f2f9db08c",
      "metadata": {
        "id": "3c8019ee-7d52-496f-afff-c96f2f9db08c"
      },
      "source": [
        "### 3.1 (5 pt)\n",
        "\n",
        "Use the provided code in the cell above to \"see the world through the eyes of a language model\":\n",
        "\n",
        "A. Tokenize the questions of the original MMLU data provided in task 1: `task_1/mmlu_data/test.csv` and plot the token distribution (the frequency of each token).\n",
        "\n",
        "B. Same as (A), but now for the answers in columns (columns \"A\", \"B\", \"C\", and \"D\").\n",
        "\n",
        "C. Isolate the tokens for the strings \"A\", \"B\", \"C\", and \"D\", then, for their occurances in both questions and answers, print their relative distribution to each other.\n",
        "\n",
        "**hint**\n",
        "- There are a _lot_ of tokens, consider using a cutoff point and log scale\n",
        "- For (c), they should sum to 1"
      ]
    },
    {
      "cell_type": "code",
      "execution_count": null,
      "id": "a9a1e97b-3a31-41b1-a9c3-fb84cb1740d9",
      "metadata": {
        "id": "a9a1e97b-3a31-41b1-a9c3-fb84cb1740d9"
      },
      "outputs": [],
      "source": [
        "# A"
      ]
    },
    {
      "cell_type": "code",
      "execution_count": null,
      "id": "fe1f8be8",
      "metadata": {
        "id": "fe1f8be8"
      },
      "outputs": [],
      "source": [
        "# B"
      ]
    },
    {
      "cell_type": "code",
      "execution_count": null,
      "id": "cd392df7",
      "metadata": {
        "id": "cd392df7"
      },
      "outputs": [],
      "source": [
        "# C"
      ]
    },
    {
      "cell_type": "markdown",
      "id": "a674929c-68e1-4cd8-97b3-efa0cdae4874",
      "metadata": {
        "id": "a674929c-68e1-4cd8-97b3-efa0cdae4874"
      },
      "source": [
        "### 3.2 (3 pt)\n",
        "\n",
        "What if the number of \"A\", \"B\", \"C\", and \"D\" tokens in the question and answer pairs could influence a language model's decisions?\n",
        "\n",
        "A. For each combined question-answers pair, compute:\n",
        "1. the number of \"A\", \"B\", \"C\", and \"D\" tokens; and\n",
        "2. the total number of tokens.\n",
        "3. then, group by the \"correct\" answer and compute the mean frequency of A, B, C, and D tokens and the total number of tokens.\n",
        "4. finally, print your results\n",
        "\n",
        "B. /Discuss:/ What do you think of the hypothesis that the frequency of A, B, C, and D tokens could influence answers?\n"
      ]
    },
    {
      "cell_type": "code",
      "execution_count": null,
      "id": "25419cc1-f058-4c51-a0aa-577272b8b578",
      "metadata": {
        "id": "25419cc1-f058-4c51-a0aa-577272b8b578"
      },
      "outputs": [],
      "source": [
        "# A"
      ]
    },
    {
      "cell_type": "markdown",
      "id": "3ea8a279",
      "metadata": {
        "id": "3ea8a279"
      },
      "source": [
        "B. /Discuss:/"
      ]
    },
    {
      "cell_type": "markdown",
      "id": "af25ef95-d2ce-4112-87f7-8b0a52755e2a",
      "metadata": {
        "id": "af25ef95-d2ce-4112-87f7-8b0a52755e2a"
      },
      "source": [
        "### 3.3 (4 pt)\n",
        "\n",
        "Three of the most important considerations when deciding between language models are:\n",
        "\n",
        "Quality\n",
        "Costs\n",
        "Speed\n",
        "\n",
        "So far, much of your analysis has focused on quality. However, the government has indicated that they are quite concerned about both the total costs and speed as well. Specifically, it has been brought to their attention that a new `turbo` model has been launched!\n",
        "\n",
        "This model is both cheaper and faster than the models you evaluated so far. However, there is a catch: the context length* is much smaller than that of the other LMS. Namely, it can only process **300** tokens during inference. Meanwhile, the other models can process up to 100K tokens!\n",
        "\n",
        "*_The “context length” refers to the number of tokens that can be given to an LM as input._\n",
        "\n",
        "A. Are there subjects where using the cheaper model might be problematic? I.e., where part of the question and answer(s) might not fit completely in the context?\n",
        "\n",
        "B. /Discuss:/ Can you think of a strategy that would balance the needs of the government?\n",
        "\n",
        "**hint**:\n",
        "- An LM needs to have both the question and the different answer options in its context"
      ]
    },
    {
      "cell_type": "code",
      "execution_count": null,
      "id": "a88a6fa3-2735-44d7-9944-076cc9f679ed",
      "metadata": {
        "id": "a88a6fa3-2735-44d7-9944-076cc9f679ed"
      },
      "outputs": [],
      "source": [
        "# A"
      ]
    },
    {
      "cell_type": "markdown",
      "id": "47f8a44a",
      "metadata": {
        "id": "47f8a44a"
      },
      "source": [
        "B. /Dicsuss:/"
      ]
    },
    {
      "cell_type": "markdown",
      "id": "110f07bf-558f-467c-8f66-d88db561d455",
      "metadata": {
        "id": "110f07bf-558f-467c-8f66-d88db561d455"
      },
      "source": [
        "### 3.4 (4 pt)\n",
        "\n",
        "/Discuss:/ The time has come to give your final recommendation on the use of LMs in education to the government! Taking into account everything you analyzed in all the preceding tasks (1, 2, and 3), please write a short recommendation consisting of 4 bullet points discussing your concerns.\n",
        "\n",
        "**hint**\n",
        "- Try to use the MECE framework: _Mutually Exclusive Collectively Exhaustive_"
      ]
    },
    {
      "cell_type": "markdown",
      "id": "434a5fa5",
      "metadata": {
        "id": "434a5fa5"
      },
      "source": [
        "/Discuss:/\n",
        "1.\n",
        "\n",
        "2.\n",
        "\n",
        "3.\n",
        "\n",
        "4."
      ]
    }
  ],
  "metadata": {
    "kernelspec": {
      "display_name": "Python 3 (ipykernel)",
      "language": "python",
      "name": "python3"
    },
    "language_info": {
      "codemirror_mode": {
        "name": "ipython",
        "version": 3
      },
      "file_extension": ".py",
      "mimetype": "text/x-python",
      "name": "python",
      "nbconvert_exporter": "python",
      "pygments_lexer": "ipython3",
      "version": "3.10.13"
    },
    "colab": {
      "provenance": []
    }
  },
  "nbformat": 4,
  "nbformat_minor": 5
}